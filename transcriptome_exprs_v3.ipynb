{
 "cells": [
  {
   "cell_type": "markdown",
   "metadata": {},
   "source": [
    "november 4 2018\n",
    "Rhondene Wint\n",
    "## Predicting Gene Expression from CDS  with Deep Learning"
   ]
  },
  {
   "cell_type": "code",
   "execution_count": 1,
   "metadata": {},
   "outputs": [],
   "source": [
    "import pandas as pd \n",
    "import matplotlib.pyplot as plt\n",
    "import seaborn\n",
    "import numpy as np\n",
    "from sklearn.utils import shuffle"
   ]
  },
  {
   "cell_type": "code",
   "execution_count": 2,
   "metadata": {},
   "outputs": [
    {
     "name": "stderr",
     "output_type": "stream",
     "text": [
      "Using TensorFlow backend.\n"
     ]
    }
   ],
   "source": [
    "from keras.models import Sequential\n",
    "from keras.layers import Dense, Embedding,Flatten, Input\n",
    "from keras.preprocessing.text import one_hot\n",
    "from keras.optimizers import Adam\n",
    "from sklearn.preprocessing import OneHotEncoder"
   ]
  },
  {
   "cell_type": "code",
   "execution_count": 4,
   "metadata": {},
   "outputs": [],
   "source": [
    "from sklearn.metrics import confusion_matrix\n",
    "from sklearn.preprocessing import StandardScaler"
   ]
  },
  {
   "cell_type": "code",
   "execution_count": 5,
   "metadata": {},
   "outputs": [],
   "source": [
    "##probably won't need all of these but anyways\n",
    "from keras.preprocessing.sequence import pad_sequences\n",
    "from keras.layers import Bidirectional, Concatenate, Permute, Dot, Input, LSTM, Multiply\n",
    "from keras.layers import RepeatVector, Dense, Activation, Lambda\n",
    "from keras.optimizers import Adam\n",
    "from keras.utils import to_categorical\n",
    "from keras.layers import Convolution1D, Dropout\n",
    "from keras.models import Model\n",
    "from keras.layers import GRU, Bidirectional, BatchNormalization, Reshape,  Conv1D, TimeDistributed\n"
   ]
  },
  {
   "cell_type": "code",
   "execution_count": 6,
   "metadata": {},
   "outputs": [],
   "source": [
    "transcripts = [] #cds files \n",
    "with open('./Transcripts/cds_files.txt','r+') as f:  #list of the file names (ls *.ge > exprs_list.txt)\n",
    "    for line in f:\n",
    "        transcripts.append(line.strip()[:-4])\n",
    "\n",
    "genomes=[]\n",
    "\"\"\" Expand the dataframe with columns from expression data\"\"\"\n",
    "with open('./exprs/exprs_data/exprs_list.txt','r+') as f:  #list of the file names (ls *.ge > exprs_list.txt)\n",
    "    for line in f:\n",
    "        genomes.append(line.strip()[:-11])"
   ]
  },
  {
   "cell_type": "code",
   "execution_count": 6,
   "metadata": {},
   "outputs": [],
   "source": [
    "##data loading and preprocess functions\n",
    "def get_data(species):\n",
    "    \"\"\"\n",
    "    Input:\n",
    "    species: type(str) name of the species you want\n",
    "    \n",
    "    Returns\n",
    "    df_exprs: dataframe of top 10 and bottom 10 expressed genes with corresponding cds\n",
    "    \"\"\"\n",
    "    df_exprs=pd.read_table(\"./exprs/exprs_data/{}_merged.csv\".format(species), sep=',')\n",
    "    ##read in cds\n",
    "    ids=[]\n",
    "    cds =[]\n",
    "\n",
    "    with open(\"./Transcripts/{}.cds\".format(species), 'r+') as f:\n",
    "        seq = ''\n",
    "        for line in f:\n",
    "            if line.startswith('>'):\n",
    "                ids.append(line.rstrip().split('|')[0][1:])\n",
    "                if len(seq)!=0:\n",
    "                    cds.append(seq)  #so the first cds isn't empty\n",
    "                seq = ''\n",
    "                continue\n",
    "            if line[0]!='>':\n",
    "                seq+=line.rstrip()\n",
    "        cds.append(seq) #the last cds gets appended\n",
    "\n",
    "    df = pd.DataFrame([ids, cds]).T  ##didnt need to make this dataframe \n",
    "\n",
    "    ##sort both by protein_ID\n",
    "    df.sort_values(by=0,inplace=True)  #same as Protien_ID\n",
    "    cds= df[1].values\n",
    "    n = df_exprs.shape[0]\n",
    "    df_exprs['CDS'] = cds[:n]  #the exprs tables may be shorter than cds files since all genes may not be trasncirbed \n",
    "\n",
    "    ##choose top_10 and bottom exprs_10\n",
    "    lower_10 = df_exprs['Abs_Exprs'].quantile(0.1)\n",
    "    upper_10 = df_exprs['Abs_Exprs'].quantile(0.9)\n",
    "\n",
    "    bottom_10 = df_exprs[df_exprs['Abs_Exprs']<lower_10]\n",
    "    top_10 = df_exprs[df_exprs['Abs_Exprs']>upper_10]\n",
    "    top_10['Exprs_Level'] = 'High'\n",
    "    bottom_10['Exprs_Level'] = 'Low'\n",
    "\n",
    "    df_exprs = pd.concat([bottom_10,top_10])\n",
    "    return shuffle(df_exprs)\n",
    "\n",
    "##preprocessing\n",
    "def preproc(df,max_len):\n",
    "    \"\"\"return CDS and labels...inputs for neural networ\"\"\"\n",
    "    df_comb = df\n",
    "    codons = []\n",
    "    labels = []\n",
    "    for i in range(len(df_comb['CDS'].values)):\n",
    "            seq = df_comb['CDS'].values[i]\n",
    "            if len(seq)%3 !=0:  ##\n",
    "                continue\n",
    "            j=0\n",
    "            c=[]\n",
    "            for x in range(int(len(seq)/3)):\n",
    "                codon = seq[j:j+3]\n",
    "                c.append(codon)\n",
    "                j+=3\n",
    "                if j==(int(len(seq)/3)):break\n",
    "            cods = \" \".join(c)\n",
    "            codons.append(cods)\n",
    "            labels.append(df_comb['Exprs_Level'].values[i])\n",
    "    return codons,labels\n",
    "\n",
    "def encode_data(codons,labels,max_len):\n",
    "    \"\"\" return padded_codons(feeds into embedding layer) and labels\"\"\"\n",
    "    #codons_normed = StandardScaler().fit_transform(codons)  no don't scale because it is sparse vector\n",
    "    vocab_size=64\n",
    "    encoded_codons = [one_hot(seq,vocab_size) for seq in codons]\n",
    "    from keras.preprocessing.sequence import pad_sequences\n",
    "    padded_codons = pad_sequences(encoded_codons,maxlen= max_len, padding='post')\n",
    "    ##one hot encode expression labels\n",
    "    target = []\n",
    "    for exprs in labels:\n",
    "        if exprs == 'Low':\n",
    "            target.append(0)\n",
    "        if exprs == 'High':\n",
    "            target.append(1)\n",
    "    target = np.asarray(target)\n",
    "    return padded_codons, target"
   ]
  },
  {
   "cell_type": "code",
   "execution_count": 10,
   "metadata": {},
   "outputs": [],
   "source": [
    "##gets combined data from multiple transcriptomes..eg all members of a family \n",
    "def combined_genomes(names):\n",
    "    \"\"\" names is the list or array of species names\n",
    "    returns concatenated dataframe of the cds and corresponding exprs of the species \"\"\"\n",
    "    df_list = []\n",
    "    for species in doth:\n",
    "        try:\n",
    "            if species not in transcripts:   #ensure that the expression file has corresponding CDS file \n",
    "                continue\n",
    "            #load exprssion data\n",
    "            df_exprs=pd.read_table(\"./exprs/exprs_data/{}_merged.csv\".format(species), sep=',')\n",
    "\n",
    "            ##read in cds\n",
    "            ids=[]\n",
    "            cds =[]\n",
    "\n",
    "            with open(\"./Transcripts/{}.cds\".format(species), 'r+') as f:\n",
    "                seq = ''\n",
    "                for line in f:\n",
    "                    if line.startswith('>'):\n",
    "                        ids.append(line.rstrip().split('|')[0][1:])\n",
    "                        if len(seq)!=0:\n",
    "                            cds.append(seq)  #so the first cds isn't empty\n",
    "                        seq = ''\n",
    "                        continue\n",
    "                    if line[0]!='>':\n",
    "                        seq+=line.rstrip()\n",
    "                cds.append(seq) #the last cds gets appended\n",
    "\n",
    "            df = pd.DataFrame([ids, cds]).T  ##didnt need to make this dataframe \n",
    "\n",
    "            ##sort both by protein_ID\n",
    "            df.sort_values(by=0,inplace=True)  #same as Protien_ID\n",
    "            cds = df[1].values\n",
    "            n = df_exprs.shape[0]\n",
    "            df_exprs['CDS'] = cds[:n]  #the exprs tables may be shorter than cds files since all genes may not be trasncirbed \n",
    "\n",
    "            ##choose top_10 and bottom exprs_10\n",
    "            lower_10 = df_exprs['Abs_Exprs'].quantile(0.1)\n",
    "            upper_10 = df_exprs['Abs_Exprs'].quantile(0.9)\n",
    "\n",
    "            bottom_10 = df_exprs[df_exprs['Abs_Exprs']<lower_10]\n",
    "            top_10 = df_exprs[df_exprs['Abs_Exprs']>upper_10]\n",
    "            top_10['Exprs_Level'] = 'High'\n",
    "            bottom_10['Exprs_Level'] = 'Low'\n",
    "\n",
    "            df_exprs = pd.concat([bottom_10,top_10])\n",
    "            df_list.append(df_exprs)\n",
    "        except FileNotFoundError:\n",
    "            continue\n",
    "        return pd.concat(df_list)"
   ]
  },
  {
   "cell_type": "code",
   "execution_count": 7,
   "metadata": {},
   "outputs": [],
   "source": [
    "def train_plot(history):\n",
    "    \"\"\"plots training history for networ\"\"\"\n",
    "    plt.figure(figsize=(8,8))\n",
    "    plt.plot(history.history['acc'], linewidth=4)\n",
    "    plt.plot(history.history['val_acc'], linewidth=4)\n",
    "    plt.title('Neural Network Accuracy for Predicting Gene Expression from Coding Sequence from',\n",
    "              fontsize=16, fontweight='bold')\n",
    "    plt.ylabel('Prediction Accuracy', fontsize=14)\n",
    "    plt.xlabel('Epoch', fontsize=14)\n",
    "    plt.xticks(fontsize=12); plt.yticks(fontsize=12)\n",
    "    plt.legend(['Train_set', 'Test_set'], loc='upper left')\n",
    "    plt.show()"
   ]
  },
  {
   "cell_type": "code",
   "execution_count": 15,
   "metadata": {},
   "outputs": [],
   "source": [
    "max_len = 2000 #2000 codons"
   ]
  },
  {
   "cell_type": "code",
   "execution_count": 72,
   "metadata": {
    "scrolled": false
   },
   "outputs": [
    {
     "name": "stderr",
     "output_type": "stream",
     "text": [
      "c:\\program files\\python36\\lib\\site-packages\\ipykernel_launcher.py:42: SettingWithCopyWarning: \n",
      "A value is trying to be set on a copy of a slice from a DataFrame.\n",
      "Try using .loc[row_indexer,col_indexer] = value instead\n",
      "\n",
      "See the caveats in the documentation: http://pandas.pydata.org/pandas-docs/stable/indexing.html#indexing-view-versus-copy\n",
      "c:\\program files\\python36\\lib\\site-packages\\ipykernel_launcher.py:43: SettingWithCopyWarning: \n",
      "A value is trying to be set on a copy of a slice from a DataFrame.\n",
      "Try using .loc[row_indexer,col_indexer] = value instead\n",
      "\n",
      "See the caveats in the documentation: http://pandas.pydata.org/pandas-docs/stable/indexing.html#indexing-view-versus-copy\n"
     ]
    }
   ],
   "source": [
    "df_comb = get_data(genomes[22])\n",
    "codons,labels=preproc(df_comb,max_len)\n",
    "padded_codons,target = encode_data(codons,labels,max_len)"
   ]
  },
  {
   "cell_type": "code",
   "execution_count": 25,
   "metadata": {},
   "outputs": [
    {
     "data": {
      "text/plain": [
       "(2360, 2000)"
      ]
     },
     "execution_count": 25,
     "metadata": {},
     "output_type": "execute_result"
    }
   ],
   "source": [
    "padded_codons.shape"
   ]
  },
  {
   "cell_type": "code",
   "execution_count": 11,
   "metadata": {},
   "outputs": [],
   "source": [
    "import random"
   ]
  },
  {
   "cell_type": "code",
   "execution_count": 12,
   "metadata": {},
   "outputs": [],
   "source": [
    "random.seed(123)"
   ]
  },
  {
   "cell_type": "code",
   "execution_count": 13,
   "metadata": {
    "scrolled": false
   },
   "outputs": [
    {
     "name": "stdout",
     "output_type": "stream",
     "text": [
      "_________________________________________________________________\n",
      "Layer (type)                 Output Shape              Param #   \n",
      "=================================================================\n",
      "embedding_1 (Embedding)      (None, 2000, 8)           512       \n",
      "_________________________________________________________________\n",
      "flatten_1 (Flatten)          (None, 16000)             0         \n",
      "_________________________________________________________________\n",
      "dense_1 (Dense)              (None, 1)                 16001     \n",
      "=================================================================\n",
      "Total params: 16,513\n",
      "Trainable params: 16,513\n",
      "Non-trainable params: 0\n",
      "_________________________________________________________________\n",
      "None\n"
     ]
    }
   ],
   "source": [
    "model = Sequential()\n",
    "model.add(Embedding(64,8, input_length=max_len))\n",
    "model.add(Flatten())   #unroll 3d tensor into 1-d \n",
    "model.add(Dense(1,activation='sigmoid'))  ##output layer is only one layer because either 1 or low\n",
    "\n",
    "#compile the model\n",
    "model.compile(optimizer=Adam(lr=0.005, beta_1=0.9, beta_2=0.999, decay=0.01),\n",
    "                   metrics=['accuracy'], loss='binary_crossentropy')\n",
    "print(model.summary())"
   ]
  },
  {
   "cell_type": "code",
   "execution_count": 21,
   "metadata": {},
   "outputs": [],
   "source": [
    "from timeit import default_timer as timer"
   ]
  },
  {
   "cell_type": "code",
   "execution_count": 17,
   "metadata": {},
   "outputs": [
    {
     "name": "stdout",
     "output_type": "stream",
     "text": [
      "2360/2360 [==============================] - 0s 113us/step\n",
      "Accuracy:  88.72881355932203\n"
     ]
    }
   ],
   "source": [
    "start= timer()\n",
    "history = model.fit(padded_codons, target, validation_split=0.33, epochs=150, batch_size=32, verbose=0)\n",
    "duration= timer()-start\n",
    "loss,accuracy = model.evaluate(padded_codons, target,verbose=1)\n",
    "print('Accuracy: ', (accuracy*100))"
   ]
  },
  {
   "cell_type": "code",
   "execution_count": 22,
   "metadata": {
    "scrolled": true
   },
   "outputs": [
    {
     "data": {
      "image/png": "[encoded data removed]",
      "text/plain": [
       "<Figure size 576x576 with 1 Axes>"
      ]
     },
     "metadata": {},
     "output_type": "display_data"
    }
   ],
   "source": [
    "train_plot(history)"
   ]
  },
  {
   "cell_type": "code",
   "execution_count": 23,
   "metadata": {
    "scrolled": false
   },
   "outputs": [
    {
     "data": {
      "image/png": "[encoded data removed]",
      "text/plain": [
       "<Figure size 576x576 with 1 Axes>"
      ]
     },
     "metadata": {},
     "output_type": "display_data"
    }
   ],
   "source": [
    "model = Sequential()\n",
    "model.add(Embedding(64,8, input_length=max_len,embeddings_initializer='glorot_normal'))\n",
    "model.add(Flatten())   #unroll 3d tensor into 1-d \n",
    "model.add(Dense(1,activation='sigmoid'))  ##output layer is only one layer because either 1 or low\n",
    "\n",
    "#compile the model\n",
    "model.compile(optimizer='rmsprop',\n",
    "                   metrics=['accuracy'], loss='mse')\n",
    "start= timer()\n",
    "history = model.fit(padded_codons, target, validation_split=0.4, epochs=20, verbose=0)\n",
    "duration = timer()-start\n",
    "loss,accuracy = model.evaluate(padded_codons, target,verbose=0)\n",
    "train_plot(history)"
   ]
  },
  {
   "cell_type": "code",
   "execution_count": 24,
   "metadata": {
    "scrolled": true
   },
   "outputs": [
    {
     "data": {
      "text/plain": [
       "0.8504237290156089"
      ]
     },
     "execution_count": 24,
     "metadata": {},
     "output_type": "execute_result"
    }
   ],
   "source": [
    "accuracy"
   ]
  },
  {
   "cell_type": "markdown",
   "metadata": {},
   "source": [
    "### try bidirectional lstm \n",
    "#### modified from my deepai course "
   ]
  },
  {
   "cell_type": "code",
   "execution_count": 100,
   "metadata": {},
   "outputs": [],
   "source": [
    "def model(input_shape):\n",
    "    \"\"\"\n",
    "    Function creating the model's graph in Keras.\n",
    "    \n",
    "    Argument:\n",
    "    input_shape -- shape of the model's input data (using Keras conventions)\n",
    "\n",
    "    Returns:\n",
    "    model -- Keras model instance\n",
    "    \"\"\"\n",
    "    X_input = Input(shape = input_shape)\n",
    "    \n",
    "    # Step 1: CONV layer (≈4 lines)\n",
    "    X = Conv1D(196, kernel_size=15, strides=4)(X_input)  # feature slection with 1-dim convolutional layer\n",
    "    X = BatchNormalization()(X)                                # Batch normalization\n",
    "    X = Activation('relu')(X)                               # ReLu activation\n",
    "    X = Dropout(0.8)(X)                               # dropout (use 0.8)\n",
    "\n",
    "    # Step 2: First GRU Layer (≈4 lines)\n",
    "    X = GRU(units=128, return_sequences=True)(X)                               # GRU (use 128 units and return the sequences)\n",
    "    X = Dropout(0.8)(X)                               # dropout (use 0.8)\n",
    "    X = BatchNormalization()(X)                                 # Batch normalization\n",
    "    \n",
    "    # Step 3: Second GRU Layer (≈4 lines)\n",
    "    X = GRU(units=128, return_sequences=True)(X)                                 # GRU (use 128 units and return the sequences)\n",
    "    X = Dropout(0.8)(X)                                   # dropout (use 0.8)\n",
    "    X = BatchNormalization()(X)                                 # Batch normalization\n",
    "    X = Dropout(0.8)(X)                                # dropout (use 0.8)\n",
    "    \n",
    "    # Step 4: Time-distributed dense layer (≈1 line)\n",
    "    X = TimeDistributed(Dense(1, activation = \"sigmoid\"))(X) # time distributed  (sigmoid)\n",
    "\n",
    "    ### END CODE HERE ###\n",
    "\n",
    "    model = Model(inputs = X_input, outputs = X)\n",
    "    \n",
    "    return model  "
   ]
  },
  {
   "cell_type": "code",
   "execution_count": 38,
   "metadata": {
    "scrolled": true
   },
   "outputs": [
    {
     "data": {
      "text/plain": [
       "(2360, 2000)"
      ]
     },
     "execution_count": 38,
     "metadata": {},
     "output_type": "execute_result"
    }
   ],
   "source": [
    "padded_codons.shape"
   ]
  },
  {
   "cell_type": "code",
   "execution_count": 43,
   "metadata": {},
   "outputs": [],
   "source": [
    "target=np.asarray(target)"
   ]
  },
  {
   "cell_type": "code",
   "execution_count": 46,
   "metadata": {
    "scrolled": false
   },
   "outputs": [
    {
     "data": {
      "text/plain": [
       "(2360,)"
      ]
     },
     "execution_count": 46,
     "metadata": {},
     "output_type": "execute_result"
    }
   ],
   "source": [
    "target.shape"
   ]
  },
  {
   "cell_type": "code",
   "execution_count": 51,
   "metadata": {},
   "outputs": [],
   "source": [
    "batch_size = 64\n",
    "epochs=120\n",
    "timesteps=20 #use the last 20 codons to predict the next 20 codons"
   ]
  },
  {
   "cell_type": "code",
   "execution_count": 48,
   "metadata": {},
   "outputs": [],
   "source": [
    "def get_train_length(dataset, batch_size, test_percent):\n",
    "    # substract test_percent to be excluded from training, reserved for testset\n",
    "    length = len(dataset)\n",
    "    length *= 1 - test_percent\n",
    "    train_length_values = []\n",
    "    for x in range(int(length) - 100,int(length)): \n",
    "        modulo=x%batch_size\n",
    "        if (modulo == 0):\n",
    "            train_length_values.append(x)\n",
    "            print(x)\n",
    "    return (max(train_length_values))"
   ]
  },
  {
   "cell_type": "code",
   "execution_count": 107,
   "metadata": {
    "scrolled": true
   },
   "outputs": [
    {
     "name": "stdout",
     "output_type": "stream",
     "text": [
      "1792\n",
      "1856\n",
      "1856\n"
     ]
    }
   ],
   "source": [
    "length = get_train_length(padded_codons, batch_size, 0.2) \n",
    "print(length)"
   ]
  },
  {
   "cell_type": "code",
   "execution_count": 108,
   "metadata": {},
   "outputs": [
    {
     "data": {
      "text/plain": [
       "(1896, 1)"
      ]
     },
     "execution_count": 108,
     "metadata": {},
     "output_type": "execute_result"
    }
   ],
   "source": [
    "#Adding timesteps * 2\n",
    "upper_train = length + timesteps*2\n",
    "padded_codons_train = padded_codons[0:upper_train]\n",
    "X =padded_codons_train[:,1:2]\n",
    "X.shape"
   ]
  },
  {
   "cell_type": "code",
   "execution_count": 106,
   "metadata": {},
   "outputs": [
    {
     "data": {
      "text/plain": [
       "array([[46]])"
      ]
     },
     "execution_count": 106,
     "metadata": {},
     "output_type": "execute_result"
    }
   ],
   "source": [
    "X[0]"
   ]
  },
  {
   "cell_type": "code",
   "execution_count": 109,
   "metadata": {},
   "outputs": [
    {
     "name": "stdout",
     "output_type": "stream",
     "text": [
      "1876\n"
     ]
    }
   ],
   "source": [
    "# Creating a data structure with n timesteps\n",
    "X_train = []\n",
    "y_train = []\n",
    "\n",
    "print(length + timesteps)\n",
    "for i in range(timesteps, length + timesteps): \n",
    "    X_train.append(X[i-timesteps:i,0])\n",
    "    y_train.append(X[i:i+timesteps,0])"
   ]
  },
  {
   "cell_type": "code",
   "execution_count": 110,
   "metadata": {},
   "outputs": [
    {
     "name": "stdout",
     "output_type": "stream",
     "text": [
      "(1856, 20)\n",
      "(1856, 20)\n"
     ]
    }
   ],
   "source": [
    "print( np.array(X_train).shape)\n",
    "print (np.array(y_train).shape)"
   ]
  },
  {
   "cell_type": "code",
   "execution_count": 115,
   "metadata": {},
   "outputs": [
    {
     "name": "stdout",
     "output_type": "stream",
     "text": [
      "(2360, 2000, 1)\n"
     ]
    },
    {
     "ename": "AttributeError",
     "evalue": "'list' object has no attribute 'shape'",
     "output_type": "error",
     "traceback": [
      "\u001b[1;31m---------------------------------------------------------------------------\u001b[0m",
      "\u001b[1;31mAttributeError\u001b[0m                            Traceback (most recent call last)",
      "\u001b[1;32m<ipython-input-115-1d31c64d11b1>\u001b[0m in \u001b[0;36m<module>\u001b[1;34m()\u001b[0m\n\u001b[0;32m      3\u001b[0m \u001b[1;31m#target = np.reshape(target, (target.shape[0], target.shape[1], 1))\u001b[0m\u001b[1;33m\u001b[0m\u001b[1;33m\u001b[0m\u001b[0m\n\u001b[0;32m      4\u001b[0m \u001b[0mprint\u001b[0m\u001b[1;33m(\u001b[0m\u001b[0mpadded_codons\u001b[0m\u001b[1;33m.\u001b[0m\u001b[0mshape\u001b[0m\u001b[1;33m)\u001b[0m\u001b[1;33m\u001b[0m\u001b[0m\n\u001b[1;32m----> 5\u001b[1;33m \u001b[0mprint\u001b[0m\u001b[1;33m(\u001b[0m\u001b[0mtarget\u001b[0m\u001b[1;33m.\u001b[0m\u001b[0mshape\u001b[0m\u001b[1;33m)\u001b[0m\u001b[1;33m\u001b[0m\u001b[0m\n\u001b[0m",
      "\u001b[1;31mAttributeError\u001b[0m: 'list' object has no attribute 'shape'"
     ]
    }
   ],
   "source": [
    "###reshape the 2-d to 3-D for conv1d input\n",
    "padded_codons = np.reshape(padded_codons, (padded_codons.shape[0], padded_codons.shape[1], 1))\n",
    "#target = np.reshape(target, (target.shape[0], target.shape[1], 1))\n",
    "print(padded_codons.shape)\n",
    "print(target.shape)"
   ]
  },
  {
   "cell_type": "code",
   "execution_count": 68,
   "metadata": {},
   "outputs": [
    {
     "data": {
      "text/plain": [
       "(1856, 20, 1)"
      ]
     },
     "execution_count": 68,
     "metadata": {},
     "output_type": "execute_result"
    }
   ],
   "source": [
    "(X_train.shape)"
   ]
  },
  {
   "cell_type": "code",
   "execution_count": 112,
   "metadata": {},
   "outputs": [
    {
     "data": {
      "text/plain": [
       "(2360, 2000)"
      ]
     },
     "execution_count": 112,
     "metadata": {},
     "output_type": "execute_result"
    }
   ],
   "source": [
    "padded_codons.shape"
   ]
  },
  {
   "cell_type": "code",
   "execution_count": 79,
   "metadata": {
    "scrolled": true
   },
   "outputs": [
    {
     "data": {
      "text/plain": [
       "tuple"
      ]
     },
     "execution_count": 79,
     "metadata": {},
     "output_type": "execute_result"
    }
   ],
   "source": [
    "type(padded_codons.shape)"
   ]
  },
  {
   "cell_type": "code",
   "execution_count": 101,
   "metadata": {},
   "outputs": [
    {
     "data": {
      "text/plain": [
       "tuple"
      ]
     },
     "execution_count": 101,
     "metadata": {},
     "output_type": "execute_result"
    }
   ],
   "source": [
    "input_shape = (20,1)\n",
    "type(input_shape)"
   ]
  },
  {
   "cell_type": "code",
   "execution_count": 102,
   "metadata": {},
   "outputs": [
    {
     "name": "stdout",
     "output_type": "stream",
     "text": [
      "_________________________________________________________________\n",
      "Layer (type)                 Output Shape              Param #   \n",
      "=================================================================\n",
      "input_11 (InputLayer)        (None, 20, 1)             0         \n",
      "_________________________________________________________________\n",
      "conv1d_10 (Conv1D)           (None, 2, 196)            3136      \n",
      "_________________________________________________________________\n",
      "batch_normalization_13 (Batc (None, 2, 196)            784       \n",
      "_________________________________________________________________\n",
      "activation_5 (Activation)    (None, 2, 196)            0         \n",
      "_________________________________________________________________\n",
      "dropout_17 (Dropout)         (None, 2, 196)            0         \n",
      "_________________________________________________________________\n",
      "gru_9 (GRU)                  (None, 2, 128)            124800    \n",
      "_________________________________________________________________\n",
      "dropout_18 (Dropout)         (None, 2, 128)            0         \n",
      "_________________________________________________________________\n",
      "batch_normalization_14 (Batc (None, 2, 128)            512       \n",
      "_________________________________________________________________\n",
      "gru_10 (GRU)                 (None, 2, 128)            98688     \n",
      "_________________________________________________________________\n",
      "dropout_19 (Dropout)         (None, 2, 128)            0         \n",
      "_________________________________________________________________\n",
      "batch_normalization_15 (Batc (None, 2, 128)            512       \n",
      "_________________________________________________________________\n",
      "dropout_20 (Dropout)         (None, 2, 128)            0         \n",
      "_________________________________________________________________\n",
      "time_distributed_5 (TimeDist (None, 2, 1)              129       \n",
      "=================================================================\n",
      "Total params: 228,561\n",
      "Trainable params: 227,657\n",
      "Non-trainable params: 904\n",
      "_________________________________________________________________\n"
     ]
    }
   ],
   "source": [
    "model = model(input_shape = (20,1))\n",
    "model.summary()"
   ]
  },
  {
   "cell_type": "code",
   "execution_count": null,
   "metadata": {},
   "outputs": [],
   "source": [
    "model.compile(optimizer=Adam(lr=0.005, beta_1=0.9, beta_2=0.999, decay=0.01),\n",
    "                   metrics=['accuracy'], loss='binary_crossentropy')\n",
    "start= timer()\n",
    "history = model.fit(padded_codons, target, validation_split=0.4, epochs=20, verbose=0)\n",
    "duration = timer()-start\n",
    "loss,accuracy = model.evaluate(padded_codons, target,verbose=0)\n",
    "train_plot(history)"
   ]
  },
  {
   "cell_type": "code",
   "execution_count": 117,
   "metadata": {},
   "outputs": [
    {
     "data": {
      "text/plain": [
       "(2360, 2000, 1)"
      ]
     },
     "execution_count": 117,
     "metadata": {},
     "output_type": "execute_result"
    }
   ],
   "source": [
    "padded_codons.shape"
   ]
  },
  {
   "cell_type": "code",
   "execution_count": 118,
   "metadata": {
    "scrolled": true
   },
   "outputs": [
    {
     "name": "stderr",
     "output_type": "stream",
     "text": [
      "c:\\program files\\python36\\lib\\site-packages\\ipykernel_launcher.py:42: SettingWithCopyWarning: \n",
      "A value is trying to be set on a copy of a slice from a DataFrame.\n",
      "Try using .loc[row_indexer,col_indexer] = value instead\n",
      "\n",
      "See the caveats in the documentation: http://pandas.pydata.org/pandas-docs/stable/indexing.html#indexing-view-versus-copy\n",
      "c:\\program files\\python36\\lib\\site-packages\\ipykernel_launcher.py:43: SettingWithCopyWarning: \n",
      "A value is trying to be set on a copy of a slice from a DataFrame.\n",
      "Try using .loc[row_indexer,col_indexer] = value instead\n",
      "\n",
      "See the caveats in the documentation: http://pandas.pydata.org/pandas-docs/stable/indexing.html#indexing-view-versus-copy\n"
     ]
    }
   ],
   "source": [
    "df_comb = get_data(genomes[22])\n",
    "codons,labels=preproc(df_comb,max_len)\n",
    "padded_codons,target = encode_data(codons,labels,max_len)"
   ]
  },
  {
   "cell_type": "code",
   "execution_count": 135,
   "metadata": {},
   "outputs": [
    {
     "data": {
      "text/plain": [
       "(2360, 1)"
      ]
     },
     "execution_count": 135,
     "metadata": {},
     "output_type": "execute_result"
    }
   ],
   "source": [
    "target= np.squeeze(np.asarray(target))\n",
    "target = target.reshape(target.shape[0],1)\n",
    "target.shape"
   ]
  },
  {
   "cell_type": "code",
   "execution_count": 136,
   "metadata": {},
   "outputs": [
    {
     "name": "stderr",
     "output_type": "stream",
     "text": [
      "c:\\program files\\python36\\lib\\site-packages\\ipykernel_launcher.py:3: UserWarning: Update your `LSTM` call to the Keras 2 API: `LSTM(10, dropout=0.2, recurrent_dropout=0.2)`\n",
      "  This is separate from the ipykernel package so we can avoid doing imports until\n"
     ]
    }
   ],
   "source": [
    "model = Sequential()\n",
    "model.add(Embedding(2000,128, input_length = padded_codons.shape[1]))\n",
    "model.add(Bidirectional(LSTM(10, dropout_U = 0.2, dropout_W = 0.2)))\n",
    "model.add(Dense(1, activation = 'softmax'))"
   ]
  },
  {
   "cell_type": "code",
   "execution_count": 137,
   "metadata": {},
   "outputs": [],
   "source": [
    "model.compile(optimizer=Adam(lr=0.005, beta_1=0.9, beta_2=0.999, decay=0.01),\n",
    "                   metrics=['accuracy'], loss='binary_crossentropy')"
   ]
  },
  {
   "cell_type": "code",
   "execution_count": 138,
   "metadata": {},
   "outputs": [
    {
     "data": {
      "image/png": "[encoded data removed]",
      "text/plain": [
       "<Figure size 576x576 with 1 Axes>"
      ]
     },
     "metadata": {},
     "output_type": "display_data"
    }
   ],
   "source": [
    "start= timer()\n",
    "history = model.fit(padded_codons, target, validation_split=0.4, epochs=20, verbose=0)\n",
    "duration = timer()-start\n",
    "loss,accuracy = model.evaluate(padded_codons, target,verbose=0)\n",
    "train_plot(history)"
   ]
  },
  {
   "cell_type": "code",
   "execution_count": 139,
   "metadata": {},
   "outputs": [
    {
     "data": {
      "text/plain": [
       "2810.3111524869346"
      ]
     },
     "execution_count": 139,
     "metadata": {},
     "output_type": "execute_result"
    }
   ],
   "source": [
    "duration"
   ]
  }
 ],
 "metadata": {
  "kernelspec": {
   "display_name": "Python 3",
   "language": "python",
   "name": "python3"
  },
  "language_info": {
   "codemirror_mode": {
    "name": "ipython",
    "version": 3
   },
   "file_extension": ".py",
   "mimetype": "text/x-python",
   "name": "python",
   "nbconvert_exporter": "python",
   "pygments_lexer": "ipython3",
   "version": "3.6.4"
  }
 },
 "nbformat": 4,
 "nbformat_minor": 2
}
